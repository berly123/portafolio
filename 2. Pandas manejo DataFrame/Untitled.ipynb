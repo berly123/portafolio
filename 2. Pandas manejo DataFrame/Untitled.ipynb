{
 "cells": [
  {
   "cell_type": "code",
   "execution_count": 17,
   "id": "b64092d7",
   "metadata": {},
   "outputs": [],
   "source": [
    "import pandas as pd\n",
    "from pprint import pprint\n",
    "def read_data_pandas():\n",
    "    data = pd.read_excel(\"data/titanic.xlsx\")\n",
    "\n",
    "read_data_pandas()"
   ]
  },
  {
   "cell_type": "code",
   "execution_count": 21,
   "id": "08225055",
   "metadata": {},
   "outputs": [
    {
     "name": "stdout",
     "output_type": "stream",
     "text": [
      "data/titanic.xlsx\n"
     ]
    }
   ],
   "source": [
    "import openpyxl \n",
    "  \n",
    "path = \"data/titanic.xlsx\"\n",
    "  \n",
    "wb_obj = openpyxl.load_workbook(path) \n",
    "  \n",
    "sheet_obj = wb_obj.active \n",
    "print(path)"
   ]
  },
  {
   "cell_type": "code",
   "execution_count": 15,
   "id": "ef22dbb4",
   "metadata": {},
   "outputs": [],
   "source": [
    "from openpyxl import load_workbook\n",
    "from pprint import pprint\n",
    "\n",
    "\n",
    "def read_data_openpyxl():\n",
    "    file_excel = load_workbook(\"data/titanic.xlsx\")\n",
    "    sheet = file_excel[\"areas\"]\n",
    "    for row in sheet.iter_rows(min_row=1, max_row=10):\n",
    "        message = \"\"\n",
    "        for cell in row:\n",
    "            message = message + \" \" + str(cell.value)\n",
    "        pprint(\"\")\n",
    "        pprint(message)"
   ]
  },
  {
   "cell_type": "code",
   "execution_count": 22,
   "id": "bd72bced",
   "metadata": {},
   "outputs": [],
   "source": [
    "import openpyxl "
   ]
  },
  {
   "cell_type": "code",
   "execution_count": null,
   "id": "0d3c8210",
   "metadata": {},
   "outputs": [],
   "source": []
  }
 ],
 "metadata": {
  "kernelspec": {
   "display_name": "Python 3 (ipykernel)",
   "language": "python",
   "name": "python3"
  },
  "language_info": {
   "codemirror_mode": {
    "name": "ipython",
    "version": 3
   },
   "file_extension": ".py",
   "mimetype": "text/x-python",
   "name": "python",
   "nbconvert_exporter": "python",
   "pygments_lexer": "ipython3",
   "version": "3.9.12"
  }
 },
 "nbformat": 4,
 "nbformat_minor": 5
}
